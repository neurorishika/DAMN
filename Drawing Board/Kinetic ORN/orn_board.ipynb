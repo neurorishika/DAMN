{
 "cells": [
  {
   "cell_type": "code",
   "execution_count": 1,
   "metadata": {},
   "outputs": [],
   "source": [
    "%matplotlib qt\n",
    "import numpy as np\n",
    "import matplotlib.pyplot as plt"
   ]
  },
  {
   "cell_type": "code",
   "execution_count": 3,
   "metadata": {},
   "outputs": [
    {
     "name": "stdout",
     "output_type": "stream",
     "text": [
      "CPU times: user 4 µs, sys: 1e+03 ns, total: 5 µs\n",
      "Wall time: 10.7 µs\n"
     ]
    }
   ],
   "source": [
    "%time\n",
    "ep = 1e-4\n",
    "time = np.arange(0,10,ep)\n",
    "L = 1*np.float32(np.logical_and(time>2,time<4))\n",
    "\n",
    "kr = 1/np.random.uniform(0,0.6)\n",
    "kf = 1/np.random.uniform(0,1.2)\n",
    "\n",
    "Cm = 0.00144\n",
    "gL = 1.44\n",
    "Vl = -62\n",
    "VR = 0\n",
    "\n",
    "gR = 0.5\n",
    "thresh0 = -55\n",
    "reset = -62\n",
    "\n",
    "tGamma = 0.5*1/kf\n",
    "delth = 0.1\n",
    "\n",
    "gB = 0.3\n",
    "gN = 0.0\n",
    "\n",
    "def f(y,t):\n",
    "    Rs,V = y\n",
    "    dRs = kr*L[int(t/ep)]*(1-Rs)-kf*Rs\n",
    "    dV = 1/Cm*(-gL*(V-Vl)-gR*(V-VR)*Rs -gB*(V-VR)- gN*np.random.normal()*(V-VR))\n",
    "    return np.array([dRs,dV])\n",
    "\n",
    "X = np.zeros((2,time.shape[0]))\n",
    "wth = np.zeros(time.shape[0])\n",
    "sp = np.zeros(time.shape[0])\n",
    "\n",
    "X[:,0]= [0,-60]\n",
    "\n",
    "for i in range(1,time.shape[0]):\n",
    "    X[:,i] = X[:,i-1] + ep*f(X[:,i-1],time[i-1])\n",
    "    wth[i] = wth[i-1]*np.exp(-ep/tGamma) \n",
    "    if X[1,i]>thresh0+wth[i]:\n",
    "        X[1,i] = reset\n",
    "        sp[i-1] = 1\n",
    "        wth[i] = wth[i] + delth/tGamma\n",
    "\n",
    "plt.figure(figsize=(15,3))\n",
    "plt.plot(time[:],X[0,:],\"-\",label=\"RK4 Solution for y\")\n",
    "#plt.scatter(time[sp>0],sp[sp>0]+thresh0,marker=\"|\",s=10000)\n",
    "\n",
    "plt.xlabel(\"t\")\n",
    "plt.ylabel(\"X\")\n",
    "#plt.ylim([-100,0])\n",
    "plt.legend()\n",
    "plt.show()\n",
    "\n",
    "\n",
    "plt.figure(figsize=(15,3))\n",
    "\n",
    "sp_times = np.arange(time.shape[0])[np.bool8(sp)]\n",
    "\n",
    "plt.plot(sp_times[1:-1]*ep,1000/np.diff(sp_times)[1:],\"-\",label=\"RK4 Solution for y\")\n",
    "#plt.scatter(time[sp>0],sp[sp>0]+thresh0,marker=\"|\",s=10000)\n",
    "\n",
    "plt.xlabel(\"t\")\n",
    "plt.ylabel(\"X\")\n",
    "plt.ylim([0,20])\n",
    "plt.legend()\n",
    "plt.show()\n",
    "\n",
    "\n"
   ]
  },
  {
   "cell_type": "code",
   "execution_count": null,
   "metadata": {},
   "outputs": [],
   "source": []
  }
 ],
 "metadata": {
  "kernelspec": {
   "display_name": "Python 3",
   "language": "python",
   "name": "python3"
  },
  "language_info": {
   "codemirror_mode": {
    "name": "ipython",
    "version": 3
   },
   "file_extension": ".py",
   "mimetype": "text/x-python",
   "name": "python",
   "nbconvert_exporter": "python",
   "pygments_lexer": "ipython3",
   "version": "3.6.6"
  }
 },
 "nbformat": 4,
 "nbformat_minor": 2
}
