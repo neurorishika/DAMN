{
 "cells": [
  {
   "cell_type": "code",
   "execution_count": 30,
   "metadata": {},
   "outputs": [],
   "source": [
    "%matplotlib qt\n",
    "import numpy as np\n",
    "import matplotlib.pyplot as plt"
   ]
  },
  {
   "cell_type": "code",
   "execution_count": 36,
   "metadata": {},
   "outputs": [
    {
     "name": "stdout",
     "output_type": "stream",
     "text": [
      "CPU times: user 4 µs, sys: 0 ns, total: 4 µs\n",
      "Wall time: 8.11 µs\n"
     ]
    }
   ],
   "source": [
    "%time\n",
    "ep = 1e-4\n",
    "time = np.arange(0,10,ep)\n",
    "L = 1*np.float32(np.logical_and(time>2,time<4))\n",
    "\n",
    "kr = 1/0.3\n",
    "kf = 1/0.6\n",
    "\n",
    "Cm = 0.00144\n",
    "gL = 1.44\n",
    "Vl = -62\n",
    "VR = 0\n",
    "\n",
    "gR = 0.5\n",
    "thresh0 = -55\n",
    "reset = -62\n",
    "\n",
    "tGamma = 0.2\n",
    "delth = 0.2\n",
    "\n",
    "gB = 0.2\n",
    "gN = 0.1\n",
    "\n",
    "def f(y,t):\n",
    "    Rs,V = y\n",
    "    dRs = kr*L[int(t/ep)]*(1-Rs)-kf*Rs\n",
    "    dV = 1/Cm*(-gL*(V-Vl)-gR*(V-VR)*Rs -gB*(V-VR)- gN*np.random.normal()*(V-VR))\n",
    "    return np.array([dRs,dV])\n",
    "\n",
    "X = np.zeros((2,time.shape[0]))\n",
    "wth = np.zeros(time.shape[0])\n",
    "sp = np.zeros(time.shape[0])\n",
    "\n",
    "X[:,0]= [0,-60]\n",
    "\n",
    "for i in range(1,time.shape[0]):\n",
    "    X[:,i] = X[:,i-1] + ep*f(X[:,i-1],time[i-1])\n",
    "    wth[i] = wth[i-1]*np.exp(-ep/tGamma) \n",
    "    if X[1,i]>thresh0+wth[i]:\n",
    "        X[1,i] = reset\n",
    "        sp[i-1] = 1\n",
    "        wth[i] = wth[i] + delth/tGamma\n",
    "\n",
    "plt.figure(figsize=(15,3))\n",
    "plt.plot(time[:],X[1,:],\"-\",label=\"RK4 Solution for y\")\n",
    "plt.scatter(time[sp>0],sp[sp>0]+thresh0,marker=\"|\",s=10000)\n",
    "\n",
    "plt.xlabel(\"t\")\n",
    "plt.ylabel(\"X\")\n",
    "plt.ylim([-100,0])\n",
    "plt.legend()\n",
    "plt.show()\n",
    "\n",
    "# plt.figure(figsize=(15,3))\n",
    "# plt.plot(time[:],X[0,:],\"-\",label=\"RK4 Solution for y\")\n",
    "# #plt.scatter(time[sp>0],sp[sp>0]+thresh0,marker=\"|\",s=10000)\n",
    "\n",
    "# plt.xlabel(\"t\")\n",
    "# plt.ylabel(\"X\")\n",
    "# #plt.ylim([-100,0])\n",
    "# plt.legend()\n",
    "# plt.show()\n",
    "\n",
    "plt.figure(figsize=(15,3))\n",
    "\n",
    "sp_times = np.arange(time.shape[0])[np.bool8(sp)]\n",
    "\n",
    "plt.plot(sp_times[:-1],1000/np.diff(sp_times),\"-\",label=\"RK4 Solution for y\")\n",
    "#plt.scatter(time[sp>0],sp[sp>0]+thresh0,marker=\"|\",s=10000)\n",
    "\n",
    "plt.xlabel(\"t\")\n",
    "plt.ylabel(\"X\")\n",
    "#plt.ylim([-100,0])\n",
    "plt.legend()\n",
    "plt.show()\n",
    "\n",
    "\n"
   ]
  },
  {
   "cell_type": "code",
   "execution_count": 35,
   "metadata": {},
   "outputs": [
    {
     "data": {
      "text/plain": [
       "array([False, False, False, ..., False, False, False])"
      ]
     },
     "execution_count": 35,
     "metadata": {},
     "output_type": "execute_result"
    }
   ],
   "source": [
    "np.bool8(sp)"
   ]
  },
  {
   "cell_type": "code",
   "execution_count": 26,
   "metadata": {},
   "outputs": [
    {
     "ename": "KeyboardInterrupt",
     "evalue": "",
     "output_type": "error",
     "traceback": [
      "\u001b[0;31m---------------------------------------------------------------------------\u001b[0m",
      "\u001b[0;31mKeyboardInterrupt\u001b[0m                         Traceback (most recent call last)",
      "\u001b[0;32m<ipython-input-26-327a402a4ee5>\u001b[0m in \u001b[0;36m<module>\u001b[0;34m\u001b[0m\n\u001b[1;32m     38\u001b[0m     \u001b[0;32mfor\u001b[0m \u001b[0mi\u001b[0m \u001b[0;32min\u001b[0m \u001b[0mrange\u001b[0m\u001b[0;34m(\u001b[0m\u001b[0;36m1\u001b[0m\u001b[0;34m,\u001b[0m\u001b[0mtime\u001b[0m\u001b[0;34m.\u001b[0m\u001b[0mshape\u001b[0m\u001b[0;34m[\u001b[0m\u001b[0;36m0\u001b[0m\u001b[0;34m]\u001b[0m\u001b[0;34m)\u001b[0m\u001b[0;34m:\u001b[0m\u001b[0;34m\u001b[0m\u001b[0m\n\u001b[1;32m     39\u001b[0m         \u001b[0mX\u001b[0m\u001b[0;34m[\u001b[0m\u001b[0;34m:\u001b[0m\u001b[0;34m,\u001b[0m\u001b[0mi\u001b[0m\u001b[0;34m]\u001b[0m \u001b[0;34m=\u001b[0m \u001b[0mX\u001b[0m\u001b[0;34m[\u001b[0m\u001b[0;34m:\u001b[0m\u001b[0;34m,\u001b[0m\u001b[0mi\u001b[0m\u001b[0;34m-\u001b[0m\u001b[0;36m1\u001b[0m\u001b[0;34m]\u001b[0m \u001b[0;34m+\u001b[0m \u001b[0mep\u001b[0m\u001b[0;34m*\u001b[0m\u001b[0mf\u001b[0m\u001b[0;34m(\u001b[0m\u001b[0mX\u001b[0m\u001b[0;34m[\u001b[0m\u001b[0;34m:\u001b[0m\u001b[0;34m,\u001b[0m\u001b[0mi\u001b[0m\u001b[0;34m-\u001b[0m\u001b[0;36m1\u001b[0m\u001b[0;34m]\u001b[0m\u001b[0;34m,\u001b[0m\u001b[0mtime\u001b[0m\u001b[0;34m[\u001b[0m\u001b[0mi\u001b[0m\u001b[0;34m-\u001b[0m\u001b[0;36m1\u001b[0m\u001b[0;34m]\u001b[0m\u001b[0;34m)\u001b[0m\u001b[0;34m\u001b[0m\u001b[0m\n\u001b[0;32m---> 40\u001b[0;31m         \u001b[0mwth\u001b[0m\u001b[0;34m[\u001b[0m\u001b[0mi\u001b[0m\u001b[0;34m]\u001b[0m \u001b[0;34m=\u001b[0m \u001b[0mwth\u001b[0m\u001b[0;34m[\u001b[0m\u001b[0mi\u001b[0m\u001b[0;34m-\u001b[0m\u001b[0;36m1\u001b[0m\u001b[0;34m]\u001b[0m\u001b[0;34m*\u001b[0m\u001b[0mnp\u001b[0m\u001b[0;34m.\u001b[0m\u001b[0mexp\u001b[0m\u001b[0;34m(\u001b[0m\u001b[0;34m-\u001b[0m\u001b[0mep\u001b[0m\u001b[0;34m/\u001b[0m\u001b[0mtGamma\u001b[0m\u001b[0;34m)\u001b[0m\u001b[0;34m\u001b[0m\u001b[0m\n\u001b[0m\u001b[1;32m     41\u001b[0m         \u001b[0;32mif\u001b[0m \u001b[0mX\u001b[0m\u001b[0;34m[\u001b[0m\u001b[0;36m1\u001b[0m\u001b[0;34m,\u001b[0m\u001b[0mi\u001b[0m\u001b[0;34m]\u001b[0m\u001b[0;34m>\u001b[0m\u001b[0mthresh0\u001b[0m\u001b[0;34m+\u001b[0m\u001b[0mwth\u001b[0m\u001b[0;34m[\u001b[0m\u001b[0mi\u001b[0m\u001b[0;34m]\u001b[0m\u001b[0;34m:\u001b[0m\u001b[0;34m\u001b[0m\u001b[0m\n\u001b[1;32m     42\u001b[0m             \u001b[0mX\u001b[0m\u001b[0;34m[\u001b[0m\u001b[0;36m1\u001b[0m\u001b[0;34m,\u001b[0m\u001b[0mi\u001b[0m\u001b[0;34m]\u001b[0m \u001b[0;34m=\u001b[0m \u001b[0mreset\u001b[0m\u001b[0;34m\u001b[0m\u001b[0m\n",
      "\u001b[0;31mKeyboardInterrupt\u001b[0m: "
     ]
    }
   ],
   "source": [
    "plt.figure(figsize=(4,3))\n",
    "data = []\n",
    "for gB in np.linspace(0.,1,20):\n",
    "    ep = 1e-4\n",
    "    time = np.arange(0,10,ep)\n",
    "    L = 0*np.float32(np.logical_and(time>1.2,time<2.2))\n",
    "\n",
    "    kr = 1/0.3\n",
    "    kf = 1/1.2\n",
    "\n",
    "    Cm = 0.00144\n",
    "    gL = 1.44\n",
    "    Vl = -62\n",
    "    VR =0\n",
    "\n",
    "    gR = 20\n",
    "    thresh0 = -55\n",
    "    reset = -62\n",
    "\n",
    "    tGamma = 0.2\n",
    "    delth = 1\n",
    "\n",
    "    #gB = 0.7\n",
    "    gN = 0.04\n",
    "    \n",
    "    def f(y,t):\n",
    "        Rs,V = y\n",
    "        dRs = kr*L[int(t/ep)]*(1-Rs)-kf*Rs\n",
    "        dV = 1/Cm*(-gL*(V-Vl)-gR*(V-VR)*Rs -gB*(V-VR)- gN*np.random.normal()*(V-VR))\n",
    "        return np.array([dRs,dV])\n",
    "\n",
    "    X = np.zeros((2,time.shape[0]))\n",
    "    wth = np.zeros(time.shape[0])\n",
    "    sp = np.zeros(time.shape[0])\n",
    "\n",
    "    X[:,0]= [0,-60]\n",
    "\n",
    "    for i in range(1,time.shape[0]):\n",
    "        X[:,i] = X[:,i-1] + ep*f(X[:,i-1],time[i-1])\n",
    "        wth[i] = wth[i-1]*np.exp(-ep/tGamma) \n",
    "        if X[1,i]>thresh0+wth[i]:\n",
    "            X[1,i] = reset\n",
    "            sp[i-1] = 1\n",
    "            wth[i] = wth[i] + delth\n",
    "\n",
    "    plt.scatter(gB,sp.sum()/10)\n",
    "    data.append((gB,sp.sum()/10))\n",
    "plt.xlabel('Baseline Conductance Input (nS)')\n",
    "plt.ylabel('Firing Rate (Hz)')\n",
    "plt.show()\n"
   ]
  },
  {
   "cell_type": "code",
   "execution_count": null,
   "metadata": {},
   "outputs": [],
   "source": [
    "from sklearn.linear_model import LinearRegression\n",
    "data = np.array(data)\n",
    "model = LinearRegression()"
   ]
  },
  {
   "cell_type": "code",
   "execution_count": null,
   "metadata": {},
   "outputs": [],
   "source": [
    "model.fit(data[:,1].reshape(-1,1),data[:,0].reshape(-1,1))"
   ]
  },
  {
   "cell_type": "code",
   "execution_count": null,
   "metadata": {},
   "outputs": [],
   "source": [
    "model.predict([[4]])"
   ]
  },
  {
   "cell_type": "code",
   "execution_count": null,
   "metadata": {},
   "outputs": [],
   "source": [
    "plt.figure(figsize=(4,3))\n",
    "data = []\n",
    "for gR in np.linspace(0.,1,20):\n",
    "    ep = 1e-3\n",
    "    time = np.arange(0,10,ep)\n",
    "    L = 1*np.float32(np.logical_and(time>1.2,time<2.2))\n",
    "\n",
    "    kr = 1/0.3\n",
    "    kf = 1/1.2\n",
    "\n",
    "    Cm = 0.00144\n",
    "    gL = 1.44\n",
    "    Vl = -62\n",
    "    VR =0\n",
    "\n",
    "    #gR = 20\n",
    "    thresh0 = -55\n",
    "    reset = -62\n",
    "\n",
    "    tGamma = 0.6\n",
    "    delth = 0\n",
    "\n",
    "    gB = model.predict([[4]])\n",
    "    gN = 0.04\n",
    "    \n",
    "    def f(y,t):\n",
    "        Rs,V = y\n",
    "        dRs = kr*L[int(t/ep)]*(1-Rs)-kf*Rs\n",
    "        dV = 1/Cm*(-gL*(V-Vl)-gR*(V-VR)*Rs -gB*(V-VR)- gN*np.random.normal()*(V-VR))\n",
    "        return np.array([dRs,dV])\n",
    "\n",
    "    X = np.zeros((2,time.shape[0]))\n",
    "    wth = np.zeros(time.shape[0])\n",
    "    sp = np.zeros(time.shape[0])\n",
    "\n",
    "    X[:,0]= [0,-60]\n",
    "\n",
    "    for i in range(1,time.shape[0]):\n",
    "        X[:,i] = X[:,i-1] + ep*f(X[:,i-1],time[i-1])\n",
    "        wth[i] = wth[i-1]*np.exp(-ep/tGamma) \n",
    "        if X[1,i]>thresh0+wth[i]:\n",
    "            X[1,i] = reset\n",
    "            sp[i-1] = 1\n",
    "            wth[i] = wth[i] + delth\n",
    "\n",
    "    plt.scatter(gR,sp.sum()/10)\n",
    "    data.append((gR,sp.sum()/10))\n",
    "plt.xlabel('Baseline Conductance Input (nS)')\n",
    "plt.ylabel('Firing Rate (Hz)')\n",
    "plt.show()\n"
   ]
  },
  {
   "cell_type": "code",
   "execution_count": null,
   "metadata": {},
   "outputs": [],
   "source": [
    "%%time\n",
    "\n",
    "ep = 1e-3\n",
    "time = np.arange(0,10,ep)\n",
    "L = 1*np.float32(np.logical_and(time>2,time<4))\n",
    "n_rep = 5\n",
    "data = []\n",
    "\n",
    "Cm = 0.00144\n",
    "gL = 1.44\n",
    "Vl = -62\n",
    "VR =0\n",
    "thresh0 = -55\n",
    "reset = -62\n",
    "tGamma = 0.6\n",
    "gN = 0.04\n",
    "kr = 1/0.3\n",
    "kf = 1/6\n",
    "\n",
    "def f(y,t):\n",
    "    Rs,V = y\n",
    "    dRs = kr*L[int(t/ep)]*(1-Rs)-kf*Rs\n",
    "    dV = 1/Cm*(-gL*(V-Vl)-gR*(V-VR)*Rs -gB*(V-VR)- gN*np.random.normal()*(V-VR))\n",
    "    return np.array([dRs,dV])\n",
    "\n",
    "for gB in np.linspace(0.,1,5):\n",
    "    for gR in np.linspace(0.,1,5):\n",
    "            for delth in np.linspace(0.,1,5):\n",
    "                sps = []\n",
    "                for i in range(n_rep):\n",
    "                    X = np.zeros((2,time.shape[0]))\n",
    "                    wth = np.zeros(time.shape[0])\n",
    "                    sp = np.zeros(time.shape[0])\n",
    "                    X[:,0]= [0,-60]\n",
    "                    for i in range(1,time.shape[0]):\n",
    "                        X[:,i] = X[:,i-1] + ep*f(X[:,i-1],time[i-1])\n",
    "                        wth[i] = wth[i-1]*np.exp(-ep/tGamma) \n",
    "                        if X[1,i]>thresh0+wth[i]:\n",
    "                            X[1,i] = reset\n",
    "                            sp[i-1] = 1\n",
    "                            wth[i] = wth[i] + delth\n",
    "                    sps.append(sp)\n",
    "                data.append((gB,gR,delth,np.mean(sps,axis=0)))              "
   ]
  },
  {
   "cell_type": "code",
   "execution_count": null,
   "metadata": {},
   "outputs": [],
   "source": [
    "np.mean([data[0][3],data[1][3]],axis=0).shape"
   ]
  },
  {
   "cell_type": "code",
   "execution_count": null,
   "metadata": {},
   "outputs": [],
   "source": [
    "for i in data[20:25]:\n",
    "    plt.plot(time[:],i[3],\"-\")"
   ]
  },
  {
   "cell_type": "code",
   "execution_count": null,
   "metadata": {},
   "outputs": [],
   "source": []
  }
 ],
 "metadata": {
  "kernelspec": {
   "display_name": "Python 3",
   "language": "python",
   "name": "python3"
  },
  "language_info": {
   "codemirror_mode": {
    "name": "ipython",
    "version": 3
   },
   "file_extension": ".py",
   "mimetype": "text/x-python",
   "name": "python",
   "nbconvert_exporter": "python",
   "pygments_lexer": "ipython3",
   "version": "3.6.6"
  }
 },
 "nbformat": 4,
 "nbformat_minor": 2
}
