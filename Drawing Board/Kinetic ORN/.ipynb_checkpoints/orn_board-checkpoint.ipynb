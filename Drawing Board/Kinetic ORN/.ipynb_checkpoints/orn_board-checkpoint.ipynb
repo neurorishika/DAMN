{
 "cells": [
  {
   "cell_type": "code",
   "execution_count": 31,
   "metadata": {},
   "outputs": [],
   "source": [
    "%matplotlib qt\n",
    "import numpy as np\n",
    "import matplotlib.pyplot as plt"
   ]
  },
  {
   "cell_type": "code",
   "execution_count": 32,
   "metadata": {},
   "outputs": [
    {
     "name": "stdout",
     "output_type": "stream",
     "text": [
      "CPU times: user 4.17 s, sys: 24 ms, total: 4.19 s\n",
      "Wall time: 4.17 s\n"
     ]
    }
   ],
   "source": [
    "%%time\n",
    "\n",
    "ep = 1e-4\n",
    "time = np.arange(0,10,ep)\n",
    "L = 1*np.float32(np.logical_and(time>2,time<4))\n",
    "\n",
    "kr = 1/np.random.uniform(0,0.6)\n",
    "kf = 1/np.random.uniform(0,1.2)\n",
    "\n",
    "Cm = 0.00144\n",
    "gL = 1.44\n",
    "Vl = -62\n",
    "VR = 0\n",
    "\n",
    "gR = 0.01#0.25\n",
    "thresh0 = -55\n",
    "reset = -62\n",
    "\n",
    "tGamma = 1.2\n",
    "delth = np.random.uniform(0.05,0.1)#np.random.uniform\n",
    "\n",
    "gB = 0.19\n",
    "gN = 0.0\n",
    "\n",
    "def f(y,t):\n",
    "    Rs,V = y\n",
    "    dRs = kr*L[int(t/ep)]*(1-Rs)-kf*Rs\n",
    "    dV = 1/Cm*(-gL*(V-Vl)-gR*(V-VR)*Rs -gB*(V-VR)- gN*np.random.normal()*(V-VR))\n",
    "    return np.array([dRs,dV])\n",
    "\n",
    "X = np.zeros((2,time.shape[0]))\n",
    "wth = np.zeros(time.shape[0])\n",
    "sp = np.zeros(time.shape[0])\n",
    "\n",
    "X[:,0]= [0,-60]\n",
    "\n",
    "for i in range(1,time.shape[0]):\n",
    "    X[:,i] = X[:,i-1] + ep*f(X[:,i-1],time[i-1])\n",
    "    wth[i] = wth[i-1]*np.exp(-ep/tGamma) \n",
    "    if X[1,i]>thresh0+wth[i]:\n",
    "        X[1,i] = reset\n",
    "        sp[i-1] = 1\n",
    "        wth[i] = wth[i] + delth/tGamma\n",
    "\n",
    "plt.figure(figsize=(15,3))\n",
    "plt.plot(time[:],X[1,:],\"-\",label=\"RK4 Solution for y\")\n",
    "plt.scatter(time[sp>0],sp[sp>0]+thresh0,marker=\"|\",s=10000)\n",
    "\n",
    "plt.xlabel(\"t\")\n",
    "plt.ylabel(\"X\")\n",
    "plt.ylim([-100,0])\n",
    "plt.legend()\n",
    "plt.show()\n",
    "\n",
    "\n",
    "plt.figure(figsize=(15,3))\n",
    "\n",
    "sp_times = np.arange(time.shape[0])[np.bool8(sp)]\n",
    "\n",
    "plt.plot(sp_times[1:-1]*ep,1/np.diff(sp_times*ep)[1:],\"-\",label=\"RK4 Solution for y\")\n",
    "#plt.scatter(time[sp>0],sp[sp>0]+thresh0,marker=\"|\",s=10000)\n",
    "\n",
    "plt.xlabel(\"t\")\n",
    "plt.ylabel(\"X\")\n",
    "plt.ylim([0,20])\n",
    "plt.xlim([0,10])\n",
    "plt.legend()\n",
    "plt.show()\n",
    "\n",
    "\n"
   ]
  },
  {
   "cell_type": "code",
   "execution_count": 33,
   "metadata": {},
   "outputs": [
    {
     "data": {
      "text/plain": [
       "[<matplotlib.lines.Line2D at 0x7f7f4e36a9b0>]"
      ]
     },
     "execution_count": 33,
     "metadata": {},
     "output_type": "execute_result"
    }
   ],
   "source": [
    "plt.plot(wth[::100])"
   ]
  },
  {
   "cell_type": "code",
   "execution_count": 85,
   "metadata": {},
   "outputs": [
    {
     "name": "stdout",
     "output_type": "stream",
     "text": [
      "CPU times: user 8.83 s, sys: 64 ms, total: 8.89 s\n",
      "Wall time: 8.82 s\n"
     ]
    }
   ],
   "source": [
    "%%time\n",
    "n = 20\n",
    "ep = 1e-4\n",
    "time = np.arange(0,10,ep)\n",
    "L = 1*np.float32(np.logical_and(time>2,time<4))\n",
    "\n",
    "kr = 1/np.random.uniform(0,0.6,size=n)\n",
    "kf = 1/np.random.uniform(0,1.2,size=n)\n",
    "\n",
    "Cm = 0.00144\n",
    "gL = 1.44\n",
    "Vl = -62\n",
    "VR = 0\n",
    "\n",
    "gR = 0.01+0.01*np.random.normal(size=n)#0.25\n",
    "thresh0 = -55\n",
    "reset = -62\n",
    "\n",
    "tGamma = np.random.uniform(0.1,1.2,size=n)\n",
    "delth = np.random.uniform(0.05,0.1,size=n)#np.random.uniform\n",
    "\n",
    "gB = 0.19\n",
    "gN = 0.005\n",
    "\n",
    "def f(y,t):\n",
    "    Rs,V = y[:n],y[n:]\n",
    "    dRs = kr*L[int(t/ep)]*(1-Rs)-kf*Rs\n",
    "    dV = 1/Cm*(-gL*(V-Vl)-gR*(V-VR)*Rs -gB*(V-VR)- gN*np.random.normal()*(V-VR))\n",
    "    return np.concatenate([dRs,dV])\n",
    "\n",
    "X = np.zeros((2*n,time.shape[0]))\n",
    "wth = np.zeros((n,time.shape[0]))\n",
    "sp = np.zeros((n,time.shape[0]))\n",
    "\n",
    "X[:,0]= [0]*n+[-60]*n\n",
    "\n",
    "for i in range(1,time.shape[0]):\n",
    "    X[:,i] = X[:,i-1] + ep*f(X[:,i-1],time[i-1])\n",
    "    wth[:,i] = wth[:,i-1]*np.exp(-ep/tGamma)\n",
    "    #if X[1,i]>thresh0+wth[i]:\n",
    "    cond = X[n:,i]>wth[:,i]+thresh0\n",
    "    X[n:,i] = np.where(cond,reset*np.ones(n),X[n:,i])\n",
    "    sp[:,i] = np.where(cond,np.ones(n),np.zeros(n))\n",
    "    wth[:,i] = np.where(cond,wth[:,i] + delth/tGamma,wth[:,i])\n",
    "\n"
   ]
  },
  {
   "cell_type": "code",
   "execution_count": 86,
   "metadata": {},
   "outputs": [],
   "source": [
    "\n",
    "plt.figure(figsize=(15,3))\n",
    "for i in range(n):\n",
    "    plt.plot(time[::10],100*i+X[n+i,::10],\"-\")\n",
    "    plt.scatter(time[sp[i,:]>0],100*i+sp[i,:][sp[i,:]>0]+thresh0,marker=\"|\",s=100)\n",
    "\n",
    "plt.xlabel(\"t\")\n",
    "plt.ylabel(\"X\")\n",
    "#plt.ylim([-100,0])\n",
    "plt.show()\n",
    "\n",
    "\n",
    "plt.figure(figsize=(15,3))\n",
    "for i in range(n):\n",
    "    sp_times = np.arange(time.shape[0])[np.bool8(sp[i,:])]\n",
    "    plt.plot(sp_times[1:-1]*ep,1/np.diff(sp_times*ep)[1:],\"-\")\n",
    "#plt.scatter(time[sp>0],sp[sp>0]+thresh0,marker=\"|\",s=10000)\n",
    "\n",
    "# plt.xlabel(\"t\")\n",
    "# plt.ylabel(\"X\")\n",
    "# plt.ylim([0,100])\"\"\n",
    "# plt.xlim([0,10])\n",
    "# plt.legend()\n",
    "# plt.show()"
   ]
  },
  {
   "cell_type": "code",
   "execution_count": null,
   "metadata": {},
   "outputs": [],
   "source": []
  }
 ],
 "metadata": {
  "kernelspec": {
   "display_name": "Python 3",
   "language": "python",
   "name": "python3"
  },
  "language_info": {
   "codemirror_mode": {
    "name": "ipython",
    "version": 3
   },
   "file_extension": ".py",
   "mimetype": "text/x-python",
   "name": "python",
   "nbconvert_exporter": "python",
   "pygments_lexer": "ipython3",
   "version": "3.6.6"
  }
 },
 "nbformat": 4,
 "nbformat_minor": 2
}
